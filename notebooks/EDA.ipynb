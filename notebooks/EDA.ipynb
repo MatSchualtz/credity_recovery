{
 "cells": [
  {
   "cell_type": "markdown",
   "metadata": {},
   "source": [
    "# Setup"
   ]
  },
  {
   "cell_type": "code",
   "execution_count": 2,
   "metadata": {},
   "outputs": [],
   "source": [
    "# Data Analisys \n",
    "import pandas as pd\n",
    "import numpy as np\n",
    "\n",
    "# DataViz\n",
    "import matplotlib.pyplot\n",
    "import seaborn as sns\n",
    "import plotly.graph_objects as go \n",
    "import plotly.express as px"
   ]
  },
  {
   "cell_type": "markdown",
   "metadata": {},
   "source": [
    "## Funções"
   ]
  },
  {
   "cell_type": "code",
   "execution_count": 14,
   "metadata": {},
   "outputs": [],
   "source": []
  },
  {
   "cell_type": "markdown",
   "metadata": {},
   "source": [
    "## Base"
   ]
  },
  {
   "cell_type": "code",
   "execution_count": 28,
   "metadata": {},
   "outputs": [],
   "source": [
    "df1 = pd.read_csv(\"D:\\Projetos\\Recuperacao_Credito\\credit_recovery\\data\\external\\planilha_2023\\planilha_202301.csv\",delimiter=';')\n",
    "df2 = pd.read_csv(\"D:\\Projetos\\Recuperacao_Credito\\credit_recovery\\data\\external\\planilha_2023\\planilha_202302.csv\",delimiter=';')\n",
    "df3 = pd.read_csv(\"D:\\Projetos\\Recuperacao_Credito\\credit_recovery\\data\\external\\planilha_2023\\planilha_202303.csv\",delimiter=';')\n",
    "df4 = pd.read_csv(\"D:\\Projetos\\Recuperacao_Credito\\credit_recovery\\data\\external\\planilha_2023\\planilha_202304.csv\",delimiter=';')\n",
    "df5 = pd.read_csv(\"D:\\Projetos\\Recuperacao_Credito\\credit_recovery\\data\\external\\planilha_2023\\planilha_202305.csv\",delimiter=';')\n",
    "df6 = pd.read_csv(\"D:\\Projetos\\Recuperacao_Credito\\credit_recovery\\data\\external\\planilha_2023\\planilha_202306.csv\",delimiter=';')\n",
    "df7 = pd.read_csv(\"D:\\Projetos\\Recuperacao_Credito\\credit_recovery\\data\\external\\planilha_2023\\planilha_202307.csv\",delimiter=';')\n",
    "df8 = pd.read_csv(\"D:\\Projetos\\Recuperacao_Credito\\credit_recovery\\data\\external\\planilha_2023\\planilha_202308.csv\",delimiter=';')\n",
    "df9 = pd.read_csv(\"D:\\Projetos\\Recuperacao_Credito\\credit_recovery\\data\\external\\planilha_2023\\planilha_202309.csv\",delimiter=';')\n",
    "df10 = pd.read_csv(\"D:\\Projetos\\Recuperacao_Credito\\credit_recovery\\data\\external\\planilha_2023\\planilha_202310.csv\",delimiter=';')\n",
    "df11 = pd.read_csv(\"D:\\Projetos\\Recuperacao_Credito\\credit_recovery\\data\\external\\planilha_2023\\planilha_202311.csv\",delimiter=';')\n",
    "df12 = pd.read_csv(\"D:\\Projetos\\Recuperacao_Credito\\credit_recovery\\data\\external\\planilha_2023\\planilha_202312.csv\",delimiter=';')\n",
    "\n",
    "df = pd.concat([df1,df2,df3,df4,df5,df6,df7,df8,df9,df10,df11,df12],ignore_index=True)"
   ]
  },
  {
   "cell_type": "markdown",
   "metadata": {},
   "source": [
    "# Tratamento"
   ]
  },
  {
   "cell_type": "code",
   "execution_count": 16,
   "metadata": {},
   "outputs": [
    {
     "name": "stdout",
     "output_type": "stream",
     "text": [
      "<class 'pandas.core.frame.DataFrame'>\n",
      "RangeIndex: 10768199 entries, 0 to 10768198\n",
      "Data columns (total 23 columns):\n",
      " #   Column                          Dtype \n",
      "---  ------                          ----- \n",
      " 0   data_base                       object\n",
      " 1   uf                              object\n",
      " 2   tcb                             object\n",
      " 3   sr                              object\n",
      " 4   cliente                         object\n",
      " 5   ocupacao                        object\n",
      " 6   cnae_secao                      object\n",
      " 7   cnae_subclasse                  object\n",
      " 8   porte                           object\n",
      " 9   modalidade                      object\n",
      " 10  origem                          object\n",
      " 11  indexador                       object\n",
      " 12  numero_de_operacoes             object\n",
      " 13  a_vencer_ate_90_dias            object\n",
      " 14  a_vencer_de_91_ate_360_dias     object\n",
      " 15  a_vencer_de_361_ate_1080_dias   object\n",
      " 16  a_vencer_de_1081_ate_1800_dias  object\n",
      " 17  a_vencer_de_1801_ate_5400_dias  object\n",
      " 18  a_vencer_acima_de_5400_dias     object\n",
      " 19  vencido_acima_de_15_dias        object\n",
      " 20  carteira_ativa                  object\n",
      " 21  carteira_inadimplida_arrastada  object\n",
      " 22  ativo_problematico              object\n",
      "dtypes: object(23)\n",
      "memory usage: 1.8+ GB\n"
     ]
    }
   ],
   "source": [
    "df.info()"
   ]
  },
  {
   "cell_type": "markdown",
   "metadata": {},
   "source": [
    "Como todos os dados vieram como strings, irei tratar para que cada variável corresponda a seu respectivo tipo. "
   ]
  },
  {
   "cell_type": "markdown",
   "metadata": {},
   "source": [
    "# EDA"
   ]
  }
 ],
 "metadata": {
  "kernelspec": {
   "display_name": "base",
   "language": "python",
   "name": "python3"
  },
  "language_info": {
   "codemirror_mode": {
    "name": "ipython",
    "version": 3
   },
   "file_extension": ".py",
   "mimetype": "text/x-python",
   "name": "python",
   "nbconvert_exporter": "python",
   "pygments_lexer": "ipython3",
   "version": "3.11.5"
  }
 },
 "nbformat": 4,
 "nbformat_minor": 2
}
